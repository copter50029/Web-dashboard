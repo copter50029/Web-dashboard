{
 "cells": [
  {
   "cell_type": "code",
   "execution_count": 2,
   "id": "4736f238",
   "metadata": {},
   "outputs": [
    {
     "name": "stdout",
     "output_type": "stream",
     "text": [
      "Sent record: {'id': 0, 'trans_date_trans_time': '1/1/2019 0:00', 'cc_num': 2700000000000000, 'merchant': 'fraud_Rippin, Kub and Mann', 'category': 'misc_net', 'amt': 4.97, 'first': 'Jennifer', 'last': 'Banks', 'gender': 'F', 'street': '561 Perry Cove', 'city': 'Moravian Falls', 'state': 'NC', 'zip': 28654, 'lat': 36.0788, 'long': -81.1781, 'city_pop': 3495, 'job': 'Psychologist, counselling', 'dob': '3/9/1988', 'trans_num': '0b242abb623afc578575680df30655b9', 'unix_time': 1325376018, 'merch_lat': 36.011293, 'merch_long': -82.048315, 'is_fraud': 0}\n",
      "Sent record: {'id': 1, 'trans_date_trans_time': '1/1/2019 0:00', 'cc_num': 630000000000, 'merchant': 'fraud_Heller, Gutmann and Zieme', 'category': 'grocery_pos', 'amt': 107.23, 'first': 'Stephanie', 'last': 'Gill', 'gender': 'F', 'street': '43039 Riley Greens Suite 393', 'city': 'Orient', 'state': 'WA', 'zip': 99160, 'lat': 48.8878, 'long': -118.2105, 'city_pop': 149, 'job': 'Special educational needs teacher', 'dob': '6/21/1978', 'trans_num': '1f76529f8574734946361c461b024d99', 'unix_time': 1325376044, 'merch_lat': 49.159047, 'merch_long': -118.186462, 'is_fraud': 0}\n",
      "Sent record: {'id': 2, 'trans_date_trans_time': '1/1/2019 0:00', 'cc_num': 38900000000000, 'merchant': 'fraud_Lind-Buckridge', 'category': 'entertainment', 'amt': 220.11, 'first': 'Edward', 'last': 'Sanchez', 'gender': 'M', 'street': '594 White Dale Suite 530', 'city': 'Malad City', 'state': 'ID', 'zip': 83252, 'lat': 42.1808, 'long': -112.262, 'city_pop': 4154, 'job': 'Nature conservation officer', 'dob': '1/19/1962', 'trans_num': 'a1a22d70485983eac12b5b88dad1cf95', 'unix_time': 1325376051, 'merch_lat': 43.150704, 'merch_long': -112.154481, 'is_fraud': 0}\n",
      "Sent record: {'id': 3, 'trans_date_trans_time': '1/1/2019 0:01', 'cc_num': 3530000000000000, 'merchant': 'fraud_Kutch, Hermiston and Farrell', 'category': 'gas_transport', 'amt': 45.0, 'first': 'Jeremy', 'last': 'White', 'gender': 'M', 'street': '9443 Cynthia Court Apt. 038', 'city': 'Boulder', 'state': 'MT', 'zip': 59632, 'lat': 46.2306, 'long': -112.1138, 'city_pop': 1939, 'job': 'Patent attorney', 'dob': '1/12/1967', 'trans_num': '6b849c168bdad6f867558c3793159a81', 'unix_time': 1325376076, 'merch_lat': 47.034331, 'merch_long': -112.561071, 'is_fraud': 0}\n",
      "Sent record: {'id': 4, 'trans_date_trans_time': '1/1/2019 0:03', 'cc_num': 376000000000000, 'merchant': 'fraud_Keeling-Crist', 'category': 'misc_pos', 'amt': 41.96, 'first': 'Tyler', 'last': 'Garcia', 'gender': 'M', 'street': '408 Bradley Rest', 'city': 'Doe Hill', 'state': 'VA', 'zip': 24433, 'lat': 38.4207, 'long': -79.4629, 'city_pop': 99, 'job': 'Dance movement psychotherapist', 'dob': '3/28/1986', 'trans_num': 'a41d7549acf90789359a9aa5346dcb46', 'unix_time': 1325376186, 'merch_lat': 38.674999, 'merch_long': -78.632459, 'is_fraud': 0}\n",
      "Sent record: {'id': 5, 'trans_date_trans_time': '1/1/2019 0:04', 'cc_num': 4770000000000000, 'merchant': 'fraud_Stroman, Hudson and Erdman', 'category': 'gas_transport', 'amt': 94.63, 'first': 'Jennifer', 'last': 'Conner', 'gender': 'F', 'street': '4655 David Island', 'city': 'Dublin', 'state': 'PA', 'zip': 18917, 'lat': 40.375, 'long': -75.2045, 'city_pop': 2158, 'job': 'Transport planner', 'dob': '6/19/1961', 'trans_num': '189a841a0a8ba03058526bcfe566aab5', 'unix_time': 1325376248, 'merch_lat': 40.653382, 'merch_long': -76.152667, 'is_fraud': 0}\n",
      "Sent record: {'id': 6, 'trans_date_trans_time': '1/1/2019 0:04', 'cc_num': 30100000000000, 'merchant': 'fraud_Rowe-Vandervort', 'category': 'grocery_net', 'amt': 44.54, 'first': 'Kelsey', 'last': 'Richards', 'gender': 'F', 'street': '889 Sarah Station Suite 624', 'city': 'Holcomb', 'state': 'KS', 'zip': 67851, 'lat': 37.9931, 'long': -100.9893, 'city_pop': 2691, 'job': 'Arboriculturist', 'dob': '8/16/1993', 'trans_num': '83ec1cc84142af6e2acf10c44949e720', 'unix_time': 1325376282, 'merch_lat': 37.162705, 'merch_long': -100.15337, 'is_fraud': 0}\n"
     ]
    },
    {
     "ename": "KeyboardInterrupt",
     "evalue": "",
     "output_type": "error",
     "traceback": [
      "\u001b[1;31m---------------------------------------------------------------------------\u001b[0m",
      "\u001b[1;31mKeyboardInterrupt\u001b[0m                         Traceback (most recent call last)",
      "Cell \u001b[1;32mIn[2], line 47\u001b[0m\n\u001b[0;32m     45\u001b[0m \u001b[38;5;28;01mfor\u001b[39;00m record \u001b[38;5;129;01min\u001b[39;00m transformed_data:\n\u001b[0;32m     46\u001b[0m     producer\u001b[38;5;241m.\u001b[39msend(\u001b[38;5;124m\"\u001b[39m\u001b[38;5;124mfake-data\u001b[39m\u001b[38;5;124m\"\u001b[39m, json\u001b[38;5;241m.\u001b[39mdumps(record)\u001b[38;5;241m.\u001b[39mencode(\u001b[38;5;124m\"\u001b[39m\u001b[38;5;124mutf-8\u001b[39m\u001b[38;5;124m\"\u001b[39m))\n\u001b[1;32m---> 47\u001b[0m     \u001b[43mtime\u001b[49m\u001b[38;5;241;43m.\u001b[39;49m\u001b[43msleep\u001b[49m\u001b[43m(\u001b[49m\u001b[38;5;241;43m1\u001b[39;49m\u001b[43m)\u001b[49m  \u001b[38;5;66;03m# Simulate real-time data by waiting for 1 second between sends\u001b[39;00m\n\u001b[0;32m     48\u001b[0m     \u001b[38;5;28mprint\u001b[39m(\u001b[38;5;124mf\u001b[39m\u001b[38;5;124m\"\u001b[39m\u001b[38;5;124mSent record: \u001b[39m\u001b[38;5;132;01m{\u001b[39;00mrecord\u001b[38;5;132;01m}\u001b[39;00m\u001b[38;5;124m\"\u001b[39m)\n",
      "\u001b[1;31mKeyboardInterrupt\u001b[0m: "
     ]
    }
   ],
   "source": [
    "import pandas as pd\n",
    "from kafka import KafkaProducer\n",
    "import json\n",
    "import time\n",
    "\n",
    "data = pd.read_csv('Raw-data.csv')\n",
    "\n",
    "# producer = KafkaProducer(bootstrap_servers='localhost:9092',\n",
    "#                          value_serializer=lambda v: json.dumps(v).encode('utf-8'))\n",
    "def transform_data(data):\n",
    "    \"\"\"Transforms raw data into a list of dictionaries.\"\"\"\n",
    "    transformed = []\n",
    "    for _, row in data.iterrows():\n",
    "        item = {\n",
    "            \"id\": int(row[\"Unnamed: 0\"]),\n",
    "            \"trans_date_trans_time\": row[\"trans_date_trans_time\"],\n",
    "            \"cc_num\": int(row[\"cc_num\"]),\n",
    "            \"merchant\": row[\"merchant\"],\n",
    "            \"category\": row[\"category\"],\n",
    "            \"amt\": float(row[\"amt\"]),\n",
    "            \"first\": row[\"first\"],\n",
    "            \"last\": row[\"last\"],\n",
    "            \"gender\": row[\"gender\"],\n",
    "            \"street\": row[\"street\"],\n",
    "            \"city\": row[\"city\"],\n",
    "            \"state\": row[\"state\"],\n",
    "            \"zip\": int(row[\"zip\"]),\n",
    "            \"lat\": float(row[\"lat\"]),\n",
    "            \"long\": float(row[\"long\"]),\n",
    "            \"city_pop\": int(row[\"city_pop\"]),\n",
    "            \"job\": row[\"job\"],\n",
    "            \"dob\": row[\"dob\"],\n",
    "            \"trans_num\": row[\"trans_num\"],\n",
    "            \"unix_time\": int(row[\"unix_time\"]),\n",
    "            \"merch_lat\": float(row[\"merch_lat\"]),\n",
    "            \"merch_long\": float(row[\"merch_long\"]),\n",
    "            \"is_fraud\": int(row[\"is_fraud\"])\n",
    "        }\n",
    "        transformed.append(item)\n",
    "    return transformed\n",
    "\n",
    "transformed_data = transform_data(data)\n",
    "producer = KafkaProducer(bootstrap_servers=[\"localhost:9093\"], max_block_ms=5000)\n",
    "\n",
    "for record in transformed_data:\n",
    "    producer.send(\"fake-data\", json.dumps(record).encode(\"utf-8\"))\n",
    "    time.sleep(1)  # Simulate real-time data by waiting for 1 second between sends\n",
    "    print(f\"Sent record: {record}\")\n"
   ]
  }
 ],
 "metadata": {
  "kernelspec": {
   "display_name": ".venv",
   "language": "python",
   "name": "python3"
  },
  "language_info": {
   "codemirror_mode": {
    "name": "ipython",
    "version": 3
   },
   "file_extension": ".py",
   "mimetype": "text/x-python",
   "name": "python",
   "nbconvert_exporter": "python",
   "pygments_lexer": "ipython3",
   "version": "3.10.6"
  }
 },
 "nbformat": 4,
 "nbformat_minor": 5
}
