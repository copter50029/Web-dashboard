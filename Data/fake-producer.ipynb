{
 "cells": [
  {
   "cell_type": "code",
   "execution_count": null,
   "id": "4736f238",
   "metadata": {},
   "outputs": [],
   "source": [
    "import pandas as pd\n",
    "from kafka import KafkaProducer\n",
    "import json\n",
    "import time\n",
    "\n",
    "data = pd.read_csv('Raw-data.csv')\n",
    "\n",
    "# producer = KafkaProducer(bootstrap_servers='localhost:9092',\n",
    "#                          value_serializer=lambda v: json.dumps(v).encode('utf-8'))\n",
    "def transform_data(data):\n",
    "    \"\"\"Transforms raw data into a list of dictionaries.\"\"\"\n",
    "    transformed = []\n",
    "    for _, row in data.iterrows():\n",
    "        item = {\n",
    "            \"id\": int(row[\"Unnamed: 0\"]),\n",
    "            \"trans_date_trans_time\": row[\"trans_date_trans_time\"],\n",
    "            \"cc_num\": int(row[\"cc_num\"]),\n",
    "            \"merchant\": row[\"merchant\"],\n",
    "            \"category\": row[\"category\"],\n",
    "            \"amt\": float(row[\"amt\"]),\n",
    "            \"first\": row[\"first\"],\n",
    "            \"last\": row[\"last\"],\n",
    "            \"gender\": row[\"gender\"],\n",
    "            \"street\": row[\"street\"],\n",
    "            \"city\": row[\"city\"],\n",
    "            \"state\": row[\"state\"],\n",
    "            \"zip\": int(row[\"zip\"]),\n",
    "            \"lat\": float(row[\"lat\"]),\n",
    "            \"long\": float(row[\"long\"]),\n",
    "            \"city_pop\": int(row[\"city_pop\"]),\n",
    "            \"job\": row[\"job\"],\n",
    "            \"dob\": row[\"dob\"],\n",
    "            \"trans_num\": row[\"trans_num\"],\n",
    "            \"unix_time\": int(row[\"unix_time\"]),\n",
    "            \"merch_lat\": float(row[\"merch_lat\"]),\n",
    "            \"merch_long\": float(row[\"merch_long\"]),\n",
    "            \"is_fraud\": int(row[\"is_fraud\"])\n",
    "        }\n",
    "        transformed.append(item)\n",
    "    return transformed\n",
    "\n",
    "transformed_data = transform_data(data)\n",
    "producer = KafkaProducer(bootstrap_servers=[\"localhost:9092\"], max_block_ms=5000)\n",
    "\n",
    "for record in transformed_data:\n",
    "    producer.send(\"fake-data\", json.dumps(record).encode(\"utf-8\"))\n",
    "    time.sleep(1)  # Simulate real-time data by waiting for 1 second between sends\n",
    "    print(f\"Sent record: {record}\")\n"
   ]
  }
 ],
 "metadata": {
  "kernelspec": {
   "display_name": ".venv-1 (3.13.7)",
   "language": "python",
   "name": "python3"
  },
  "language_info": {
   "codemirror_mode": {
    "name": "ipython",
    "version": 3
   },
   "file_extension": ".py",
   "mimetype": "text/x-python",
   "name": "python",
   "nbconvert_exporter": "python",
   "pygments_lexer": "ipython3",
   "version": "3.13.7"
  }
 },
 "nbformat": 4,
 "nbformat_minor": 5
}
